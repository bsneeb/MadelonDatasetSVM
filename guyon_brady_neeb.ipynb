{
 "cells": [
  {
   "cell_type": "markdown",
   "metadata": {},
   "source": [
    "## Brady Neeb\n",
    "## Madelon Non-Linear SVM Challenge\n",
    "#### For this challenge, you will create and fit support vector machines as classifiers for the Madelon synthetic dataset from OpenML (Links to an external site.) using SciKit-Learn. You can do this locally or on Google Colab (Links to an external site.).\n",
    "\n",
    "#### The Madelon dataset is a synthetic dataset that's designed to be difficult and highly non-linear. It was developed by Isabelle Guyon (Links to an external site.), et al. [1]\n",
    "\n",
    "#### \"Madelon is an artificial dataset containing data points grouped in 32 clusters placed on the vertices of a five dimensional hypercube and randomly labeled +1 or -1. The five dimensions constitute five informative features. Fifteen linear combinations of those features were added to form a set of 20 (redundant) informative features. Based on those 20 features one must separate the examples into the two classes. We added a number of distractor features called 'probes' having no predictive power. The order of the features and patterns were randomized.\"\n",
    "\n",
    "#### Again, this is a hard dataset. For more on this dataset, see: https://archive.ics.uci.edu/ml/datasets/madelon"
   ]
  },
  {
   "cell_type": "code",
   "execution_count": 2,
   "metadata": {},
   "outputs": [],
   "source": [
    "# Open the data set in a variable called databunch\n",
    "from sklearn import datasets\n",
    "databunch = datasets.fetch_openml('madelon')"
   ]
  },
  {
   "cell_type": "code",
   "execution_count": 3,
   "metadata": {},
   "outputs": [
    {
     "name": "stdout",
     "output_type": "stream",
     "text": [
      "(2600, 500)\n",
      "(2600,)\n"
     ]
    }
   ],
   "source": [
    "# Verify the dimentions of the data\n",
    "print(databunch.data.shape)\n",
    "print(databunch.target.shape)"
   ]
  },
  {
   "cell_type": "code",
   "execution_count": 4,
   "metadata": {},
   "outputs": [],
   "source": [
    "# Split the data using train_test_split():\n",
    "from sklearn.model_selection import train_test_split\n",
    "X = databunch.data\n",
    "Y = databunch.target\n",
    "test_size = 0.2\n",
    "random_state = 0\n",
    "X_train, X_test, Y_train, Y_test = train_test_split(X, Y, test_size=test_size, random_state=random_state)"
   ]
  },
  {
   "cell_type": "code",
   "execution_count": 5,
   "metadata": {},
   "outputs": [
    {
     "name": "stdout",
     "output_type": "stream",
     "text": [
      "(2080, 500)\n",
      "(520, 500)\n",
      "(2080,)\n",
      "(520,)\n"
     ]
    }
   ],
   "source": [
    "# Verify training and testing data\n",
    "print(X_train.shape)\n",
    "print(X_test.shape)\n",
    "print(Y_train.shape)\n",
    "print(Y_test.shape)"
   ]
  },
  {
   "cell_type": "code",
   "execution_count": 6,
   "metadata": {},
   "outputs": [
    {
     "data": {
      "text/plain": [
       "SVC()"
      ]
     },
     "execution_count": 6,
     "metadata": {},
     "output_type": "execute_result"
    }
   ],
   "source": [
    "# Using the produced data sets from train_test_split(), create the model using SVC Classifier\n",
    "from sklearn import svm\n",
    "\n",
    "svc_model = svm.SVC() \n",
    "svc_model.fit(X_train, Y_train)"
   ]
  },
  {
   "cell_type": "code",
   "execution_count": 7,
   "metadata": {},
   "outputs": [
    {
     "data": {
      "text/plain": [
       "0.6538461538461539"
      ]
     },
     "execution_count": 7,
     "metadata": {},
     "output_type": "execute_result"
    }
   ],
   "source": [
    "# Default SVC model score\n",
    "svc_model.score(X_test, Y_test)"
   ]
  },
  {
   "cell_type": "code",
   "execution_count": 8,
   "metadata": {},
   "outputs": [
    {
     "data": {
      "text/plain": [
       "GridSearchCV(estimator=SVC(),\n",
       "             param_grid=[{'C': [0.001, 0.01, 0.1, 1, 3, 5],\n",
       "                          'gamma': ['scale', 'auto'],\n",
       "                          'kernel': ['poly', 'rbf']}],\n",
       "             scoring='accuracy')"
      ]
     },
     "execution_count": 8,
     "metadata": {},
     "output_type": "execute_result"
    }
   ],
   "source": [
    "# Using GridSearchCV to search combinations of kernels, C and gamma values.\n",
    "from sklearn.model_selection import GridSearchCV\n",
    "\n",
    "kernels = ['poly', 'rbf']\n",
    "c_values = [0.001, 0.01, 0.1, 1, 3, 5]\n",
    "gamma_values = ['scale', 'auto']\n",
    "param_grid = [\n",
    "    {'kernel': kernels, \n",
    "    'C': c_values, \n",
    "    'gamma': gamma_values}]\n",
    "gscv = GridSearchCV(svc_model, param_grid, scoring='accuracy')\n",
    "gscv.fit(X_train, Y_train)"
   ]
  },
  {
   "cell_type": "code",
   "execution_count": 10,
   "metadata": {},
   "outputs": [
    {
     "name": "stdout",
     "output_type": "stream",
     "text": [
      "SVC(C=5)\n"
     ]
    },
    {
     "data": {
      "text/plain": [
       "0.6653846153846154"
      ]
     },
     "execution_count": 10,
     "metadata": {},
     "output_type": "execute_result"
    }
   ],
   "source": [
    "# Check the estimators\n",
    "estimator = gscv.best_estimator_\n",
    "print(estimator)\n",
    "estimator.score(X_test, Y_test)"
   ]
  },
  {
   "cell_type": "code",
   "execution_count": 14,
   "metadata": {},
   "outputs": [
    {
     "data": {
      "text/plain": [
       "GridSearchCV(estimator=SVC(),\n",
       "             param_grid=[{'C': [3, 4, 5, 6, 7, 8], 'gamma': ['scale', 'auto'],\n",
       "                          'kernel': ['poly', 'rbf']}],\n",
       "             scoring='accuracy')"
      ]
     },
     "execution_count": 14,
     "metadata": {},
     "output_type": "execute_result"
    }
   ],
   "source": [
    "# Trying some more refined parameters\n",
    "kernels = ['poly', 'rbf']\n",
    "c_values = [3, 4, 5, 6, 7, 8]\n",
    "gamma_values = ['scale', 'auto']\n",
    "param_grid = [\n",
    "    {'kernel': kernels, \n",
    "    'C': c_values, \n",
    "    'gamma': gamma_values}]\n",
    "gscv = GridSearchCV(svc_model, param_grid, scoring='accuracy')\n",
    "gscv.fit(X_train, Y_train)"
   ]
  },
  {
   "cell_type": "code",
   "execution_count": 15,
   "metadata": {},
   "outputs": [
    {
     "name": "stdout",
     "output_type": "stream",
     "text": [
      "SVC(C=4)\n"
     ]
    },
    {
     "data": {
      "text/plain": [
       "0.6634615384615384"
      ]
     },
     "execution_count": 15,
     "metadata": {},
     "output_type": "execute_result"
    }
   ],
   "source": [
    "# Check the estimators on the newly refined parameters\n",
    "refined_estimator = gscv.best_estimator_\n",
    "print(refined_estimator)\n",
    "refined_estimator.score(X_test, Y_test)"
   ]
  },
  {
   "cell_type": "markdown",
   "metadata": {},
   "source": [
    "### After refining, it turns out the initial estimator was best at 66.5% accuracy. Next, I will apply this estimator to a pipeline with StandardScaler and Principal Component Analysis"
   ]
  },
  {
   "cell_type": "code",
   "execution_count": 16,
   "metadata": {},
   "outputs": [
    {
     "data": {
      "text/plain": [
       "array([[ 0.67204433,  0.60858403, -0.44006546, ..., -0.29667925,\n",
       "        -1.22328227,  0.87173526],\n",
       "       [-1.83559501, -1.35894494,  0.4853734 , ..., -2.00258493,\n",
       "        -1.2769718 , -0.6880818 ],\n",
       "       [-1.20868517,  0.74197582,  0.09977388, ...,  0.51918869,\n",
       "         1.21959112,  0.28680386],\n",
       "       ...,\n",
       "       [ 0.04513449, -1.09216135, -0.56859864, ..., -0.66752831,\n",
       "         0.30686919,  1.84662093],\n",
       "       [ 0.35858941,  0.67527993,  0.38254686, ...,  0.        ,\n",
       "         0.28002443,  0.13082216],\n",
       "       [-0.11159296,  1.07545531,  0.99950611, ..., -0.37084906,\n",
       "        -0.55216321, -0.84406351]])"
      ]
     },
     "execution_count": 16,
     "metadata": {},
     "output_type": "execute_result"
    }
   ],
   "source": [
    "# Try to improve using StandardScaler and Pipelines\n",
    "from sklearn.preprocessing import StandardScaler\n",
    "\n",
    "scaler = StandardScaler()\n",
    "scaler.fit(X_train, Y_train)\n",
    "scaler.transform(X_train)"
   ]
  },
  {
   "cell_type": "code",
   "execution_count": 19,
   "metadata": {},
   "outputs": [
    {
     "name": "stdout",
     "output_type": "stream",
     "text": [
      "n=1: Score: 0.675\n",
      "n=2: Score: 0.6788461538461539\n",
      "n=3: Score: 0.7230769230769231\n",
      "n=4: Score: 0.8076923076923077\n",
      "n=5: Score: 0.8596153846153847\n",
      "n=6: Score: 0.8442307692307692\n",
      "n=7: Score: 0.8442307692307692\n",
      "n=8: Score: 0.8346153846153846\n",
      "n=9: Score: 0.8307692307692308\n",
      "n=10: Score: 0.8038461538461539\n",
      "n=11: Score: 0.7884615384615384\n",
      "n=12: Score: 0.7903846153846154\n",
      "n=13: Score: 0.7942307692307692\n",
      "n=14: Score: 0.7961538461538461\n",
      "n=15: Score: 0.7653846153846153\n",
      "n=16: Score: 0.7730769230769231\n",
      "n=17: Score: 0.7653846153846153\n",
      "n=18: Score: 0.7769230769230769\n",
      "n=19: Score: 0.7596153846153846\n",
      "n=20: Score: 0.7461538461538462\n",
      "n=21: Score: 0.7730769230769231\n",
      "n=22: Score: 0.7519230769230769\n",
      "n=23: Score: 0.75\n",
      "n=24: Score: 0.7634615384615384\n"
     ]
    }
   ],
   "source": [
    "# Create a pipeline using Scaler, PCA and svc model\n",
    "from sklearn.pipeline import Pipeline\n",
    "from sklearn.decomposition import PCA\n",
    "\n",
    "scores = []\n",
    "\n",
    "for i in range(1, 25):\n",
    "    pca = PCA(n_components=i)\n",
    "    pca.fit(X_train, Y_train)\n",
    "    pipe = Pipeline([('scaler', scaler), ('pca', pca), ('svc', estimator)])\n",
    "    pipe.fit(X_train, Y_train)\n",
    "    scores.append(pipe.score(X_test, Y_test))\n",
    "    print(f\"n={i}: Score: {scores[i-1]}\")"
   ]
  },
  {
   "cell_type": "code",
   "execution_count": 20,
   "metadata": {},
   "outputs": [
    {
     "data": {
      "image/png": "[encoded data removed]",
      "text/plain": [
       "<Figure size 432x288 with 1 Axes>"
      ]
     },
     "metadata": {
      "needs_background": "light"
     },
     "output_type": "display_data"
    }
   ],
   "source": [
    "# Plot the scores:\n",
    "import matplotlib.pyplot as plt\n",
    "plt.plot(range(1, 25), scores)\n",
    "plt.xlabel('n_components')\n",
    "plt.ylabel('Accuracy')\n",
    "plt.show()"
   ]
  },
  {
   "cell_type": "markdown",
   "metadata": {},
   "source": [
    "## There is a clear peak of performance when n=5. The maximum accuracy here is 85.4%. This will conclude this model."
   ]
  }
 ],
 "metadata": {
  "interpreter": {
   "hash": "efc9811fbd4450a2d1f9781a15d171aba0200937b325006c786dbf27c6c77e32"
  },
  "kernelspec": {
   "display_name": "Python 3.10.1 64-bit",
   "language": "python",
   "name": "python3"
  },
  "language_info": {
   "codemirror_mode": {
    "name": "ipython",
    "version": 3
   },
   "file_extension": ".py",
   "mimetype": "text/x-python",
   "name": "python",
   "nbconvert_exporter": "python",
   "pygments_lexer": "ipython3",
   "version": "3.10.1"
  },
  "orig_nbformat": 4
 },
 "nbformat": 4,
 "nbformat_minor": 2
}
